{
  "nbformat": 4,
  "nbformat_minor": 0,
  "metadata": {
    "colab": {
      "provenance": []
    },
    "kernelspec": {
      "name": "python3",
      "display_name": "Python 3"
    },
    "language_info": {
      "name": "python"
    }
  },
  "cells": [
    {
      "cell_type": "code",
      "execution_count": null,
      "metadata": {
        "id": "9KgNLCIQ9r47"
      },
      "outputs": [],
      "source": [
        "import numpy as np\n",
        "from sklearn import datasets\n",
        "import pandas as pd\n",
        "import matplotlib.pyplot as plt\n",
        "from sklearn.cluster import KMeans\n",
        "from sklearn.metrics import silhouette_score"
      ]
    },
    {
      "cell_type": "code",
      "source": [
        "df = pd.read_csv('oil trades.csv', sep=';')\n",
        "df"
      ],
      "metadata": {
        "colab": {
          "base_uri": "https://localhost:8080/",
          "height": 708
        },
        "id": "_hRcaEBwnom7",
        "outputId": "313aa9e9-3b59-457a-851a-2fde916c4d4a"
      },
      "execution_count": null,
      "outputs": [
        {
          "output_type": "execute_result",
          "data": {
            "text/plain": [
              "               Countries   Crude Imports    Product Imports    Crude Exports   \\\n",
              "0                 Canada           23.909             30.636          197.439   \n",
              "1                 Mexico            0.000             58.959           52.884   \n",
              "2                     US          304.670            112.861          138.549   \n",
              "3     S. & Cent. America           21.826            105.767          124.147   \n",
              "4                Europe           467.741            197.500           36.379   \n",
              "5                 Russia            0.024              1.875          263.565   \n",
              "6              Other CIS           15.941              6.889           87.121   \n",
              "7                   Iraq            0.005              8.333          176.096   \n",
              "8                 Kuwait            0.000              0.936           88.362   \n",
              "9           Saudi Arabia            0.013             16.142          323.215   \n",
              "10  United Arab Emirates            3.163             31.788          146.072   \n",
              "11     Other Middle East           18.665             19.664           96.967   \n",
              "12          North Africa            9.296             30.848           85.421   \n",
              "13           West Africa            0.471             46.032          187.365   \n",
              "14      East & S. Africa           12.368             41.093            4.827   \n",
              "15           Australasia           14.888             26.186            9.228   \n",
              "16                 China          525.961            103.408            1.566   \n",
              "17                 India          213.747             49.370            0.053   \n",
              "18                 Japan          122.050             43.024            0.411   \n",
              "19             Singapore           47.017             91.829            1.009   \n",
              "20    Other Asia Pacific          257.100            202.057           38.180   \n",
              "\n",
              "     Product Exports   \n",
              "0              33.542  \n",
              "1               8.238  \n",
              "2             244.436  \n",
              "3              23.639  \n",
              "4             110.523  \n",
              "5             140.670  \n",
              "6              17.713  \n",
              "7              12.305  \n",
              "8              24.259  \n",
              "9              57.653  \n",
              "10             86.732  \n",
              "11             62.436  \n",
              "12             45.375  \n",
              "13              8.555  \n",
              "14              2.747  \n",
              "15              5.368  \n",
              "16             60.585  \n",
              "17             69.339  \n",
              "18             10.958  \n",
              "19             68.932  \n",
              "20            131.191  "
            ],
            "text/html": [
              "\n",
              "  <div id=\"df-26f72034-a01b-40c0-8382-2ca85a5e76ed\">\n",
              "    <div class=\"colab-df-container\">\n",
              "      <div>\n",
              "<style scoped>\n",
              "    .dataframe tbody tr th:only-of-type {\n",
              "        vertical-align: middle;\n",
              "    }\n",
              "\n",
              "    .dataframe tbody tr th {\n",
              "        vertical-align: top;\n",
              "    }\n",
              "\n",
              "    .dataframe thead th {\n",
              "        text-align: right;\n",
              "    }\n",
              "</style>\n",
              "<table border=\"1\" class=\"dataframe\">\n",
              "  <thead>\n",
              "    <tr style=\"text-align: right;\">\n",
              "      <th></th>\n",
              "      <th>Countries</th>\n",
              "      <th>Crude Imports</th>\n",
              "      <th>Product Imports</th>\n",
              "      <th>Crude Exports</th>\n",
              "      <th>Product Exports</th>\n",
              "    </tr>\n",
              "  </thead>\n",
              "  <tbody>\n",
              "    <tr>\n",
              "      <th>0</th>\n",
              "      <td>Canada</td>\n",
              "      <td>23.909</td>\n",
              "      <td>30.636</td>\n",
              "      <td>197.439</td>\n",
              "      <td>33.542</td>\n",
              "    </tr>\n",
              "    <tr>\n",
              "      <th>1</th>\n",
              "      <td>Mexico</td>\n",
              "      <td>0.000</td>\n",
              "      <td>58.959</td>\n",
              "      <td>52.884</td>\n",
              "      <td>8.238</td>\n",
              "    </tr>\n",
              "    <tr>\n",
              "      <th>2</th>\n",
              "      <td>US</td>\n",
              "      <td>304.670</td>\n",
              "      <td>112.861</td>\n",
              "      <td>138.549</td>\n",
              "      <td>244.436</td>\n",
              "    </tr>\n",
              "    <tr>\n",
              "      <th>3</th>\n",
              "      <td>S. &amp; Cent. America</td>\n",
              "      <td>21.826</td>\n",
              "      <td>105.767</td>\n",
              "      <td>124.147</td>\n",
              "      <td>23.639</td>\n",
              "    </tr>\n",
              "    <tr>\n",
              "      <th>4</th>\n",
              "      <td>Europe</td>\n",
              "      <td>467.741</td>\n",
              "      <td>197.500</td>\n",
              "      <td>36.379</td>\n",
              "      <td>110.523</td>\n",
              "    </tr>\n",
              "    <tr>\n",
              "      <th>5</th>\n",
              "      <td>Russia</td>\n",
              "      <td>0.024</td>\n",
              "      <td>1.875</td>\n",
              "      <td>263.565</td>\n",
              "      <td>140.670</td>\n",
              "    </tr>\n",
              "    <tr>\n",
              "      <th>6</th>\n",
              "      <td>Other CIS</td>\n",
              "      <td>15.941</td>\n",
              "      <td>6.889</td>\n",
              "      <td>87.121</td>\n",
              "      <td>17.713</td>\n",
              "    </tr>\n",
              "    <tr>\n",
              "      <th>7</th>\n",
              "      <td>Iraq</td>\n",
              "      <td>0.005</td>\n",
              "      <td>8.333</td>\n",
              "      <td>176.096</td>\n",
              "      <td>12.305</td>\n",
              "    </tr>\n",
              "    <tr>\n",
              "      <th>8</th>\n",
              "      <td>Kuwait</td>\n",
              "      <td>0.000</td>\n",
              "      <td>0.936</td>\n",
              "      <td>88.362</td>\n",
              "      <td>24.259</td>\n",
              "    </tr>\n",
              "    <tr>\n",
              "      <th>9</th>\n",
              "      <td>Saudi Arabia</td>\n",
              "      <td>0.013</td>\n",
              "      <td>16.142</td>\n",
              "      <td>323.215</td>\n",
              "      <td>57.653</td>\n",
              "    </tr>\n",
              "    <tr>\n",
              "      <th>10</th>\n",
              "      <td>United Arab Emirates</td>\n",
              "      <td>3.163</td>\n",
              "      <td>31.788</td>\n",
              "      <td>146.072</td>\n",
              "      <td>86.732</td>\n",
              "    </tr>\n",
              "    <tr>\n",
              "      <th>11</th>\n",
              "      <td>Other Middle East</td>\n",
              "      <td>18.665</td>\n",
              "      <td>19.664</td>\n",
              "      <td>96.967</td>\n",
              "      <td>62.436</td>\n",
              "    </tr>\n",
              "    <tr>\n",
              "      <th>12</th>\n",
              "      <td>North Africa</td>\n",
              "      <td>9.296</td>\n",
              "      <td>30.848</td>\n",
              "      <td>85.421</td>\n",
              "      <td>45.375</td>\n",
              "    </tr>\n",
              "    <tr>\n",
              "      <th>13</th>\n",
              "      <td>West Africa</td>\n",
              "      <td>0.471</td>\n",
              "      <td>46.032</td>\n",
              "      <td>187.365</td>\n",
              "      <td>8.555</td>\n",
              "    </tr>\n",
              "    <tr>\n",
              "      <th>14</th>\n",
              "      <td>East &amp; S. Africa</td>\n",
              "      <td>12.368</td>\n",
              "      <td>41.093</td>\n",
              "      <td>4.827</td>\n",
              "      <td>2.747</td>\n",
              "    </tr>\n",
              "    <tr>\n",
              "      <th>15</th>\n",
              "      <td>Australasia</td>\n",
              "      <td>14.888</td>\n",
              "      <td>26.186</td>\n",
              "      <td>9.228</td>\n",
              "      <td>5.368</td>\n",
              "    </tr>\n",
              "    <tr>\n",
              "      <th>16</th>\n",
              "      <td>China</td>\n",
              "      <td>525.961</td>\n",
              "      <td>103.408</td>\n",
              "      <td>1.566</td>\n",
              "      <td>60.585</td>\n",
              "    </tr>\n",
              "    <tr>\n",
              "      <th>17</th>\n",
              "      <td>India</td>\n",
              "      <td>213.747</td>\n",
              "      <td>49.370</td>\n",
              "      <td>0.053</td>\n",
              "      <td>69.339</td>\n",
              "    </tr>\n",
              "    <tr>\n",
              "      <th>18</th>\n",
              "      <td>Japan</td>\n",
              "      <td>122.050</td>\n",
              "      <td>43.024</td>\n",
              "      <td>0.411</td>\n",
              "      <td>10.958</td>\n",
              "    </tr>\n",
              "    <tr>\n",
              "      <th>19</th>\n",
              "      <td>Singapore</td>\n",
              "      <td>47.017</td>\n",
              "      <td>91.829</td>\n",
              "      <td>1.009</td>\n",
              "      <td>68.932</td>\n",
              "    </tr>\n",
              "    <tr>\n",
              "      <th>20</th>\n",
              "      <td>Other Asia Pacific</td>\n",
              "      <td>257.100</td>\n",
              "      <td>202.057</td>\n",
              "      <td>38.180</td>\n",
              "      <td>131.191</td>\n",
              "    </tr>\n",
              "  </tbody>\n",
              "</table>\n",
              "</div>\n",
              "      <button class=\"colab-df-convert\" onclick=\"convertToInteractive('df-26f72034-a01b-40c0-8382-2ca85a5e76ed')\"\n",
              "              title=\"Convert this dataframe to an interactive table.\"\n",
              "              style=\"display:none;\">\n",
              "        \n",
              "  <svg xmlns=\"http://www.w3.org/2000/svg\" height=\"24px\"viewBox=\"0 0 24 24\"\n",
              "       width=\"24px\">\n",
              "    <path d=\"M0 0h24v24H0V0z\" fill=\"none\"/>\n",
              "    <path d=\"M18.56 5.44l.94 2.06.94-2.06 2.06-.94-2.06-.94-.94-2.06-.94 2.06-2.06.94zm-11 1L8.5 8.5l.94-2.06 2.06-.94-2.06-.94L8.5 2.5l-.94 2.06-2.06.94zm10 10l.94 2.06.94-2.06 2.06-.94-2.06-.94-.94-2.06-.94 2.06-2.06.94z\"/><path d=\"M17.41 7.96l-1.37-1.37c-.4-.4-.92-.59-1.43-.59-.52 0-1.04.2-1.43.59L10.3 9.45l-7.72 7.72c-.78.78-.78 2.05 0 2.83L4 21.41c.39.39.9.59 1.41.59.51 0 1.02-.2 1.41-.59l7.78-7.78 2.81-2.81c.8-.78.8-2.07 0-2.86zM5.41 20L4 18.59l7.72-7.72 1.47 1.35L5.41 20z\"/>\n",
              "  </svg>\n",
              "      </button>\n",
              "      \n",
              "  <style>\n",
              "    .colab-df-container {\n",
              "      display:flex;\n",
              "      flex-wrap:wrap;\n",
              "      gap: 12px;\n",
              "    }\n",
              "\n",
              "    .colab-df-convert {\n",
              "      background-color: #E8F0FE;\n",
              "      border: none;\n",
              "      border-radius: 50%;\n",
              "      cursor: pointer;\n",
              "      display: none;\n",
              "      fill: #1967D2;\n",
              "      height: 32px;\n",
              "      padding: 0 0 0 0;\n",
              "      width: 32px;\n",
              "    }\n",
              "\n",
              "    .colab-df-convert:hover {\n",
              "      background-color: #E2EBFA;\n",
              "      box-shadow: 0px 1px 2px rgba(60, 64, 67, 0.3), 0px 1px 3px 1px rgba(60, 64, 67, 0.15);\n",
              "      fill: #174EA6;\n",
              "    }\n",
              "\n",
              "    [theme=dark] .colab-df-convert {\n",
              "      background-color: #3B4455;\n",
              "      fill: #D2E3FC;\n",
              "    }\n",
              "\n",
              "    [theme=dark] .colab-df-convert:hover {\n",
              "      background-color: #434B5C;\n",
              "      box-shadow: 0px 1px 3px 1px rgba(0, 0, 0, 0.15);\n",
              "      filter: drop-shadow(0px 1px 2px rgba(0, 0, 0, 0.3));\n",
              "      fill: #FFFFFF;\n",
              "    }\n",
              "  </style>\n",
              "\n",
              "      <script>\n",
              "        const buttonEl =\n",
              "          document.querySelector('#df-26f72034-a01b-40c0-8382-2ca85a5e76ed button.colab-df-convert');\n",
              "        buttonEl.style.display =\n",
              "          google.colab.kernel.accessAllowed ? 'block' : 'none';\n",
              "\n",
              "        async function convertToInteractive(key) {\n",
              "          const element = document.querySelector('#df-26f72034-a01b-40c0-8382-2ca85a5e76ed');\n",
              "          const dataTable =\n",
              "            await google.colab.kernel.invokeFunction('convertToInteractive',\n",
              "                                                     [key], {});\n",
              "          if (!dataTable) return;\n",
              "\n",
              "          const docLinkHtml = 'Like what you see? Visit the ' +\n",
              "            '<a target=\"_blank\" href=https://colab.research.google.com/notebooks/data_table.ipynb>data table notebook</a>'\n",
              "            + ' to learn more about interactive tables.';\n",
              "          element.innerHTML = '';\n",
              "          dataTable['output_type'] = 'display_data';\n",
              "          await google.colab.output.renderOutput(dataTable, element);\n",
              "          const docLink = document.createElement('div');\n",
              "          docLink.innerHTML = docLinkHtml;\n",
              "          element.appendChild(docLink);\n",
              "        }\n",
              "      </script>\n",
              "    </div>\n",
              "  </div>\n",
              "  "
            ]
          },
          "metadata": {},
          "execution_count": 187
        }
      ]
    },
    {
      "cell_type": "code",
      "source": [
        "data = df.drop(\"Countries\", axis=1)\n",
        "counries = df[\"Countries\"].values\n",
        "data = data.astype(np.float)\n",
        "data.head()"
      ],
      "metadata": {
        "colab": {
          "base_uri": "https://localhost:8080/",
          "height": 278
        },
        "id": "dg9v47WfnrP_",
        "outputId": "eb6bb4c7-2127-4852-d5ff-1345b05bc3ae"
      },
      "execution_count": null,
      "outputs": [
        {
          "output_type": "stream",
          "name": "stderr",
          "text": [
            "<ipython-input-188-08e037fc7ae9>:3: DeprecationWarning: `np.float` is a deprecated alias for the builtin `float`. To silence this warning, use `float` by itself. Doing this will not modify any behavior and is safe. If you specifically wanted the numpy scalar type, use `np.float64` here.\n",
            "Deprecated in NumPy 1.20; for more details and guidance: https://numpy.org/devdocs/release/1.20.0-notes.html#deprecations\n",
            "  data = data.astype(np.float)\n"
          ]
        },
        {
          "output_type": "execute_result",
          "data": {
            "text/plain": [
              "    Crude Imports    Product Imports    Crude Exports    Product Exports \n",
              "0           23.909             30.636          197.439             33.542\n",
              "1            0.000             58.959           52.884              8.238\n",
              "2          304.670            112.861          138.549            244.436\n",
              "3           21.826            105.767          124.147             23.639\n",
              "4          467.741            197.500           36.379            110.523"
            ],
            "text/html": [
              "\n",
              "  <div id=\"df-6ff69a68-8e42-44fe-bff7-94a380a702e3\">\n",
              "    <div class=\"colab-df-container\">\n",
              "      <div>\n",
              "<style scoped>\n",
              "    .dataframe tbody tr th:only-of-type {\n",
              "        vertical-align: middle;\n",
              "    }\n",
              "\n",
              "    .dataframe tbody tr th {\n",
              "        vertical-align: top;\n",
              "    }\n",
              "\n",
              "    .dataframe thead th {\n",
              "        text-align: right;\n",
              "    }\n",
              "</style>\n",
              "<table border=\"1\" class=\"dataframe\">\n",
              "  <thead>\n",
              "    <tr style=\"text-align: right;\">\n",
              "      <th></th>\n",
              "      <th>Crude Imports</th>\n",
              "      <th>Product Imports</th>\n",
              "      <th>Crude Exports</th>\n",
              "      <th>Product Exports</th>\n",
              "    </tr>\n",
              "  </thead>\n",
              "  <tbody>\n",
              "    <tr>\n",
              "      <th>0</th>\n",
              "      <td>23.909</td>\n",
              "      <td>30.636</td>\n",
              "      <td>197.439</td>\n",
              "      <td>33.542</td>\n",
              "    </tr>\n",
              "    <tr>\n",
              "      <th>1</th>\n",
              "      <td>0.000</td>\n",
              "      <td>58.959</td>\n",
              "      <td>52.884</td>\n",
              "      <td>8.238</td>\n",
              "    </tr>\n",
              "    <tr>\n",
              "      <th>2</th>\n",
              "      <td>304.670</td>\n",
              "      <td>112.861</td>\n",
              "      <td>138.549</td>\n",
              "      <td>244.436</td>\n",
              "    </tr>\n",
              "    <tr>\n",
              "      <th>3</th>\n",
              "      <td>21.826</td>\n",
              "      <td>105.767</td>\n",
              "      <td>124.147</td>\n",
              "      <td>23.639</td>\n",
              "    </tr>\n",
              "    <tr>\n",
              "      <th>4</th>\n",
              "      <td>467.741</td>\n",
              "      <td>197.500</td>\n",
              "      <td>36.379</td>\n",
              "      <td>110.523</td>\n",
              "    </tr>\n",
              "  </tbody>\n",
              "</table>\n",
              "</div>\n",
              "      <button class=\"colab-df-convert\" onclick=\"convertToInteractive('df-6ff69a68-8e42-44fe-bff7-94a380a702e3')\"\n",
              "              title=\"Convert this dataframe to an interactive table.\"\n",
              "              style=\"display:none;\">\n",
              "        \n",
              "  <svg xmlns=\"http://www.w3.org/2000/svg\" height=\"24px\"viewBox=\"0 0 24 24\"\n",
              "       width=\"24px\">\n",
              "    <path d=\"M0 0h24v24H0V0z\" fill=\"none\"/>\n",
              "    <path d=\"M18.56 5.44l.94 2.06.94-2.06 2.06-.94-2.06-.94-.94-2.06-.94 2.06-2.06.94zm-11 1L8.5 8.5l.94-2.06 2.06-.94-2.06-.94L8.5 2.5l-.94 2.06-2.06.94zm10 10l.94 2.06.94-2.06 2.06-.94-2.06-.94-.94-2.06-.94 2.06-2.06.94z\"/><path d=\"M17.41 7.96l-1.37-1.37c-.4-.4-.92-.59-1.43-.59-.52 0-1.04.2-1.43.59L10.3 9.45l-7.72 7.72c-.78.78-.78 2.05 0 2.83L4 21.41c.39.39.9.59 1.41.59.51 0 1.02-.2 1.41-.59l7.78-7.78 2.81-2.81c.8-.78.8-2.07 0-2.86zM5.41 20L4 18.59l7.72-7.72 1.47 1.35L5.41 20z\"/>\n",
              "  </svg>\n",
              "      </button>\n",
              "      \n",
              "  <style>\n",
              "    .colab-df-container {\n",
              "      display:flex;\n",
              "      flex-wrap:wrap;\n",
              "      gap: 12px;\n",
              "    }\n",
              "\n",
              "    .colab-df-convert {\n",
              "      background-color: #E8F0FE;\n",
              "      border: none;\n",
              "      border-radius: 50%;\n",
              "      cursor: pointer;\n",
              "      display: none;\n",
              "      fill: #1967D2;\n",
              "      height: 32px;\n",
              "      padding: 0 0 0 0;\n",
              "      width: 32px;\n",
              "    }\n",
              "\n",
              "    .colab-df-convert:hover {\n",
              "      background-color: #E2EBFA;\n",
              "      box-shadow: 0px 1px 2px rgba(60, 64, 67, 0.3), 0px 1px 3px 1px rgba(60, 64, 67, 0.15);\n",
              "      fill: #174EA6;\n",
              "    }\n",
              "\n",
              "    [theme=dark] .colab-df-convert {\n",
              "      background-color: #3B4455;\n",
              "      fill: #D2E3FC;\n",
              "    }\n",
              "\n",
              "    [theme=dark] .colab-df-convert:hover {\n",
              "      background-color: #434B5C;\n",
              "      box-shadow: 0px 1px 3px 1px rgba(0, 0, 0, 0.15);\n",
              "      filter: drop-shadow(0px 1px 2px rgba(0, 0, 0, 0.3));\n",
              "      fill: #FFFFFF;\n",
              "    }\n",
              "  </style>\n",
              "\n",
              "      <script>\n",
              "        const buttonEl =\n",
              "          document.querySelector('#df-6ff69a68-8e42-44fe-bff7-94a380a702e3 button.colab-df-convert');\n",
              "        buttonEl.style.display =\n",
              "          google.colab.kernel.accessAllowed ? 'block' : 'none';\n",
              "\n",
              "        async function convertToInteractive(key) {\n",
              "          const element = document.querySelector('#df-6ff69a68-8e42-44fe-bff7-94a380a702e3');\n",
              "          const dataTable =\n",
              "            await google.colab.kernel.invokeFunction('convertToInteractive',\n",
              "                                                     [key], {});\n",
              "          if (!dataTable) return;\n",
              "\n",
              "          const docLinkHtml = 'Like what you see? Visit the ' +\n",
              "            '<a target=\"_blank\" href=https://colab.research.google.com/notebooks/data_table.ipynb>data table notebook</a>'\n",
              "            + ' to learn more about interactive tables.';\n",
              "          element.innerHTML = '';\n",
              "          dataTable['output_type'] = 'display_data';\n",
              "          await google.colab.output.renderOutput(dataTable, element);\n",
              "          const docLink = document.createElement('div');\n",
              "          docLink.innerHTML = docLinkHtml;\n",
              "          element.appendChild(docLink);\n",
              "        }\n",
              "      </script>\n",
              "    </div>\n",
              "  </div>\n",
              "  "
            ]
          },
          "metadata": {},
          "execution_count": 188
        }
      ]
    },
    {
      "cell_type": "code",
      "source": [
        "print(counries.transpose())"
      ],
      "metadata": {
        "colab": {
          "base_uri": "https://localhost:8080/"
        },
        "id": "3DJq8YM10GEY",
        "outputId": "9ce5c6d2-eb03-40fe-906e-82cd29b03d60"
      },
      "execution_count": null,
      "outputs": [
        {
          "output_type": "stream",
          "name": "stdout",
          "text": [
            "['Canada' 'Mexico' 'US' 'S. & Cent. America' 'Europe ' 'Russia'\n",
            " 'Other CIS' 'Iraq' 'Kuwait' 'Saudi Arabia' 'United Arab Emirates'\n",
            " 'Other Middle East' 'North Africa' 'West Africa' 'East & S. Africa'\n",
            " 'Australasia' 'China' 'India' 'Japan' 'Singapore' 'Other Asia Pacific']\n"
          ]
        }
      ]
    },
    {
      "cell_type": "code",
      "source": [
        "X = data.values[:,:]\n",
        "X = np.nan_to_num(X)\n",
        "X"
      ],
      "metadata": {
        "colab": {
          "base_uri": "https://localhost:8080/"
        },
        "id": "GyR3Vpw9nvF3",
        "outputId": "2fb6bc05-1151-48db-9f45-cb0d32dcdfe6"
      },
      "execution_count": null,
      "outputs": [
        {
          "output_type": "execute_result",
          "data": {
            "text/plain": [
              "array([[2.39090e+01, 3.06360e+01, 1.97439e+02, 3.35420e+01],\n",
              "       [0.00000e+00, 5.89590e+01, 5.28840e+01, 8.23800e+00],\n",
              "       [3.04670e+02, 1.12861e+02, 1.38549e+02, 2.44436e+02],\n",
              "       [2.18260e+01, 1.05767e+02, 1.24147e+02, 2.36390e+01],\n",
              "       [4.67741e+02, 1.97500e+02, 3.63790e+01, 1.10523e+02],\n",
              "       [2.40000e-02, 1.87500e+00, 2.63565e+02, 1.40670e+02],\n",
              "       [1.59410e+01, 6.88900e+00, 8.71210e+01, 1.77130e+01],\n",
              "       [5.00000e-03, 8.33300e+00, 1.76096e+02, 1.23050e+01],\n",
              "       [0.00000e+00, 9.36000e-01, 8.83620e+01, 2.42590e+01],\n",
              "       [1.30000e-02, 1.61420e+01, 3.23215e+02, 5.76530e+01],\n",
              "       [3.16300e+00, 3.17880e+01, 1.46072e+02, 8.67320e+01],\n",
              "       [1.86650e+01, 1.96640e+01, 9.69670e+01, 6.24360e+01],\n",
              "       [9.29600e+00, 3.08480e+01, 8.54210e+01, 4.53750e+01],\n",
              "       [4.71000e-01, 4.60320e+01, 1.87365e+02, 8.55500e+00],\n",
              "       [1.23680e+01, 4.10930e+01, 4.82700e+00, 2.74700e+00],\n",
              "       [1.48880e+01, 2.61860e+01, 9.22800e+00, 5.36800e+00],\n",
              "       [5.25961e+02, 1.03408e+02, 1.56600e+00, 6.05850e+01],\n",
              "       [2.13747e+02, 4.93700e+01, 5.30000e-02, 6.93390e+01],\n",
              "       [1.22050e+02, 4.30240e+01, 4.11000e-01, 1.09580e+01],\n",
              "       [4.70170e+01, 9.18290e+01, 1.00900e+00, 6.89320e+01],\n",
              "       [2.57100e+02, 2.02057e+02, 3.81800e+01, 1.31191e+02]])"
            ]
          },
          "metadata": {},
          "execution_count": 189
        }
      ]
    },
    {
      "cell_type": "code",
      "source": [
        "distortions = []\n",
        "K = range(1,10)\n",
        "for k in K:\n",
        "    kmeanModel = KMeans(n_clusters=k)\n",
        "    kmeanModel.fit(X)\n",
        "    distortions.append(kmeanModel.inertia_)"
      ],
      "metadata": {
        "id": "hsN1QleW-DH6"
      },
      "execution_count": null,
      "outputs": []
    },
    {
      "cell_type": "code",
      "source": [
        "plt.figure(figsize=(16,8))\n",
        "plt.plot(K, distortions, 'bx-')\n",
        "plt.xlabel('k')\n",
        "plt.ylabel('Distortion')\n",
        "plt.title('The Elbow Method showing the optimal k')\n",
        "plt.show()"
      ],
      "metadata": {
        "colab": {
          "base_uri": "https://localhost:8080/",
          "height": 513
        },
        "id": "wSwIN3hq-WZR",
        "outputId": "8251a2cd-6137-4924-bc2d-9be28e3ac797"
      },
      "execution_count": null,
      "outputs": [
        {
          "output_type": "display_data",
          "data": {
            "text/plain": [
              "<Figure size 1152x576 with 1 Axes>"
            ],
            "image/png": "[encoded data removed]"
          },
          "metadata": {
            "needs_background": "light"
          }
        }
      ]
    },
    {
      "cell_type": "code",
      "source": [
        "K = range(3,5)\n",
        "for k in K:\n",
        "  km = KMeans(init = \"random\", n_clusters=k, n_init = 12)\n",
        "  km.fit_predict(X)\n",
        "  score = silhouette_score(X, km.labels_, metric='euclidean')\n",
        "\n",
        "  print('Silhouetter Score for k = %d: %.3f' % (k, score))"
      ],
      "metadata": {
        "colab": {
          "base_uri": "https://localhost:8080/"
        },
        "id": "h0a6k_p5BLeK",
        "outputId": "01d71c28-f219-499f-998d-05d6c1368f5e"
      },
      "execution_count": null,
      "outputs": [
        {
          "output_type": "stream",
          "name": "stdout",
          "text": [
            "Silhouetter Score for k = 3: 0.381\n",
            "Silhouetter Score for k = 4: 0.351\n"
          ]
        }
      ]
    },
    {
      "cell_type": "code",
      "source": [
        "clusterNum = 3\n",
        "k_means = KMeans(init = \"random\", n_clusters=clusterNum, n_init = 12)\n",
        "k_means.fit(X)\n",
        "labels = k_means.labels_\n",
        "centers = k_means.cluster_centers_\n",
        "print(centers, labels)"
      ],
      "metadata": {
        "colab": {
          "base_uri": "https://localhost:8080/"
        },
        "id": "Xr5ElYRFnxrG",
        "outputId": "7d4a7872-ff28-469d-cb17-75406dd512ce"
      },
      "execution_count": null,
      "outputs": [
        {
          "output_type": "stream",
          "name": "stdout",
          "text": [
            "[[388.868      153.9565      53.6685     136.68375   ]\n",
            " [  4.5975      22.46766667 215.62533333  56.57616667]\n",
            " [ 43.25436364  43.14227273  50.03909091  30.81854545]] [1 2 0 2 0 1 2 1 2 1 1 2 2 1 2 2 0 2 2 2 0]\n"
          ]
        }
      ]
    },
    {
      "cell_type": "code",
      "source": [
        "data[\"Countries\"] = counries\n",
        "data[\"Clus_km\"] = labels\n",
        "data"
      ],
      "metadata": {
        "colab": {
          "base_uri": "https://localhost:8080/",
          "height": 708
        },
        "id": "GvKeo1hOn0tM",
        "outputId": "98a3801c-ec65-4ec2-d72d-f2fa1cccd419"
      },
      "execution_count": null,
      "outputs": [
        {
          "output_type": "execute_result",
          "data": {
            "text/plain": [
              "     Crude Imports    Product Imports    Crude Exports    Product Exports   \\\n",
              "0            23.909             30.636          197.439             33.542   \n",
              "1             0.000             58.959           52.884              8.238   \n",
              "2           304.670            112.861          138.549            244.436   \n",
              "3            21.826            105.767          124.147             23.639   \n",
              "4           467.741            197.500           36.379            110.523   \n",
              "5             0.024              1.875          263.565            140.670   \n",
              "6            15.941              6.889           87.121             17.713   \n",
              "7             0.005              8.333          176.096             12.305   \n",
              "8             0.000              0.936           88.362             24.259   \n",
              "9             0.013             16.142          323.215             57.653   \n",
              "10            3.163             31.788          146.072             86.732   \n",
              "11           18.665             19.664           96.967             62.436   \n",
              "12            9.296             30.848           85.421             45.375   \n",
              "13            0.471             46.032          187.365              8.555   \n",
              "14           12.368             41.093            4.827              2.747   \n",
              "15           14.888             26.186            9.228              5.368   \n",
              "16          525.961            103.408            1.566             60.585   \n",
              "17          213.747             49.370            0.053             69.339   \n",
              "18          122.050             43.024            0.411             10.958   \n",
              "19           47.017             91.829            1.009             68.932   \n",
              "20          257.100            202.057           38.180            131.191   \n",
              "\n",
              "               Countries  Clus_km  \n",
              "0                 Canada        1  \n",
              "1                 Mexico        2  \n",
              "2                     US        0  \n",
              "3     S. & Cent. America        2  \n",
              "4                Europe         0  \n",
              "5                 Russia        1  \n",
              "6              Other CIS        2  \n",
              "7                   Iraq        1  \n",
              "8                 Kuwait        2  \n",
              "9           Saudi Arabia        1  \n",
              "10  United Arab Emirates        1  \n",
              "11     Other Middle East        2  \n",
              "12          North Africa        2  \n",
              "13           West Africa        1  \n",
              "14      East & S. Africa        2  \n",
              "15           Australasia        2  \n",
              "16                 China        0  \n",
              "17                 India        2  \n",
              "18                 Japan        2  \n",
              "19             Singapore        2  \n",
              "20    Other Asia Pacific        0  "
            ],
            "text/html": [
              "\n",
              "  <div id=\"df-b79f1c91-93dd-4b6b-9cec-819e0b3472fa\">\n",
              "    <div class=\"colab-df-container\">\n",
              "      <div>\n",
              "<style scoped>\n",
              "    .dataframe tbody tr th:only-of-type {\n",
              "        vertical-align: middle;\n",
              "    }\n",
              "\n",
              "    .dataframe tbody tr th {\n",
              "        vertical-align: top;\n",
              "    }\n",
              "\n",
              "    .dataframe thead th {\n",
              "        text-align: right;\n",
              "    }\n",
              "</style>\n",
              "<table border=\"1\" class=\"dataframe\">\n",
              "  <thead>\n",
              "    <tr style=\"text-align: right;\">\n",
              "      <th></th>\n",
              "      <th>Crude Imports</th>\n",
              "      <th>Product Imports</th>\n",
              "      <th>Crude Exports</th>\n",
              "      <th>Product Exports</th>\n",
              "      <th>Countries</th>\n",
              "      <th>Clus_km</th>\n",
              "    </tr>\n",
              "  </thead>\n",
              "  <tbody>\n",
              "    <tr>\n",
              "      <th>0</th>\n",
              "      <td>23.909</td>\n",
              "      <td>30.636</td>\n",
              "      <td>197.439</td>\n",
              "      <td>33.542</td>\n",
              "      <td>Canada</td>\n",
              "      <td>1</td>\n",
              "    </tr>\n",
              "    <tr>\n",
              "      <th>1</th>\n",
              "      <td>0.000</td>\n",
              "      <td>58.959</td>\n",
              "      <td>52.884</td>\n",
              "      <td>8.238</td>\n",
              "      <td>Mexico</td>\n",
              "      <td>2</td>\n",
              "    </tr>\n",
              "    <tr>\n",
              "      <th>2</th>\n",
              "      <td>304.670</td>\n",
              "      <td>112.861</td>\n",
              "      <td>138.549</td>\n",
              "      <td>244.436</td>\n",
              "      <td>US</td>\n",
              "      <td>0</td>\n",
              "    </tr>\n",
              "    <tr>\n",
              "      <th>3</th>\n",
              "      <td>21.826</td>\n",
              "      <td>105.767</td>\n",
              "      <td>124.147</td>\n",
              "      <td>23.639</td>\n",
              "      <td>S. &amp; Cent. America</td>\n",
              "      <td>2</td>\n",
              "    </tr>\n",
              "    <tr>\n",
              "      <th>4</th>\n",
              "      <td>467.741</td>\n",
              "      <td>197.500</td>\n",
              "      <td>36.379</td>\n",
              "      <td>110.523</td>\n",
              "      <td>Europe</td>\n",
              "      <td>0</td>\n",
              "    </tr>\n",
              "    <tr>\n",
              "      <th>5</th>\n",
              "      <td>0.024</td>\n",
              "      <td>1.875</td>\n",
              "      <td>263.565</td>\n",
              "      <td>140.670</td>\n",
              "      <td>Russia</td>\n",
              "      <td>1</td>\n",
              "    </tr>\n",
              "    <tr>\n",
              "      <th>6</th>\n",
              "      <td>15.941</td>\n",
              "      <td>6.889</td>\n",
              "      <td>87.121</td>\n",
              "      <td>17.713</td>\n",
              "      <td>Other CIS</td>\n",
              "      <td>2</td>\n",
              "    </tr>\n",
              "    <tr>\n",
              "      <th>7</th>\n",
              "      <td>0.005</td>\n",
              "      <td>8.333</td>\n",
              "      <td>176.096</td>\n",
              "      <td>12.305</td>\n",
              "      <td>Iraq</td>\n",
              "      <td>1</td>\n",
              "    </tr>\n",
              "    <tr>\n",
              "      <th>8</th>\n",
              "      <td>0.000</td>\n",
              "      <td>0.936</td>\n",
              "      <td>88.362</td>\n",
              "      <td>24.259</td>\n",
              "      <td>Kuwait</td>\n",
              "      <td>2</td>\n",
              "    </tr>\n",
              "    <tr>\n",
              "      <th>9</th>\n",
              "      <td>0.013</td>\n",
              "      <td>16.142</td>\n",
              "      <td>323.215</td>\n",
              "      <td>57.653</td>\n",
              "      <td>Saudi Arabia</td>\n",
              "      <td>1</td>\n",
              "    </tr>\n",
              "    <tr>\n",
              "      <th>10</th>\n",
              "      <td>3.163</td>\n",
              "      <td>31.788</td>\n",
              "      <td>146.072</td>\n",
              "      <td>86.732</td>\n",
              "      <td>United Arab Emirates</td>\n",
              "      <td>1</td>\n",
              "    </tr>\n",
              "    <tr>\n",
              "      <th>11</th>\n",
              "      <td>18.665</td>\n",
              "      <td>19.664</td>\n",
              "      <td>96.967</td>\n",
              "      <td>62.436</td>\n",
              "      <td>Other Middle East</td>\n",
              "      <td>2</td>\n",
              "    </tr>\n",
              "    <tr>\n",
              "      <th>12</th>\n",
              "      <td>9.296</td>\n",
              "      <td>30.848</td>\n",
              "      <td>85.421</td>\n",
              "      <td>45.375</td>\n",
              "      <td>North Africa</td>\n",
              "      <td>2</td>\n",
              "    </tr>\n",
              "    <tr>\n",
              "      <th>13</th>\n",
              "      <td>0.471</td>\n",
              "      <td>46.032</td>\n",
              "      <td>187.365</td>\n",
              "      <td>8.555</td>\n",
              "      <td>West Africa</td>\n",
              "      <td>1</td>\n",
              "    </tr>\n",
              "    <tr>\n",
              "      <th>14</th>\n",
              "      <td>12.368</td>\n",
              "      <td>41.093</td>\n",
              "      <td>4.827</td>\n",
              "      <td>2.747</td>\n",
              "      <td>East &amp; S. Africa</td>\n",
              "      <td>2</td>\n",
              "    </tr>\n",
              "    <tr>\n",
              "      <th>15</th>\n",
              "      <td>14.888</td>\n",
              "      <td>26.186</td>\n",
              "      <td>9.228</td>\n",
              "      <td>5.368</td>\n",
              "      <td>Australasia</td>\n",
              "      <td>2</td>\n",
              "    </tr>\n",
              "    <tr>\n",
              "      <th>16</th>\n",
              "      <td>525.961</td>\n",
              "      <td>103.408</td>\n",
              "      <td>1.566</td>\n",
              "      <td>60.585</td>\n",
              "      <td>China</td>\n",
              "      <td>0</td>\n",
              "    </tr>\n",
              "    <tr>\n",
              "      <th>17</th>\n",
              "      <td>213.747</td>\n",
              "      <td>49.370</td>\n",
              "      <td>0.053</td>\n",
              "      <td>69.339</td>\n",
              "      <td>India</td>\n",
              "      <td>2</td>\n",
              "    </tr>\n",
              "    <tr>\n",
              "      <th>18</th>\n",
              "      <td>122.050</td>\n",
              "      <td>43.024</td>\n",
              "      <td>0.411</td>\n",
              "      <td>10.958</td>\n",
              "      <td>Japan</td>\n",
              "      <td>2</td>\n",
              "    </tr>\n",
              "    <tr>\n",
              "      <th>19</th>\n",
              "      <td>47.017</td>\n",
              "      <td>91.829</td>\n",
              "      <td>1.009</td>\n",
              "      <td>68.932</td>\n",
              "      <td>Singapore</td>\n",
              "      <td>2</td>\n",
              "    </tr>\n",
              "    <tr>\n",
              "      <th>20</th>\n",
              "      <td>257.100</td>\n",
              "      <td>202.057</td>\n",
              "      <td>38.180</td>\n",
              "      <td>131.191</td>\n",
              "      <td>Other Asia Pacific</td>\n",
              "      <td>0</td>\n",
              "    </tr>\n",
              "  </tbody>\n",
              "</table>\n",
              "</div>\n",
              "      <button class=\"colab-df-convert\" onclick=\"convertToInteractive('df-b79f1c91-93dd-4b6b-9cec-819e0b3472fa')\"\n",
              "              title=\"Convert this dataframe to an interactive table.\"\n",
              "              style=\"display:none;\">\n",
              "        \n",
              "  <svg xmlns=\"http://www.w3.org/2000/svg\" height=\"24px\"viewBox=\"0 0 24 24\"\n",
              "       width=\"24px\">\n",
              "    <path d=\"M0 0h24v24H0V0z\" fill=\"none\"/>\n",
              "    <path d=\"M18.56 5.44l.94 2.06.94-2.06 2.06-.94-2.06-.94-.94-2.06-.94 2.06-2.06.94zm-11 1L8.5 8.5l.94-2.06 2.06-.94-2.06-.94L8.5 2.5l-.94 2.06-2.06.94zm10 10l.94 2.06.94-2.06 2.06-.94-2.06-.94-.94-2.06-.94 2.06-2.06.94z\"/><path d=\"M17.41 7.96l-1.37-1.37c-.4-.4-.92-.59-1.43-.59-.52 0-1.04.2-1.43.59L10.3 9.45l-7.72 7.72c-.78.78-.78 2.05 0 2.83L4 21.41c.39.39.9.59 1.41.59.51 0 1.02-.2 1.41-.59l7.78-7.78 2.81-2.81c.8-.78.8-2.07 0-2.86zM5.41 20L4 18.59l7.72-7.72 1.47 1.35L5.41 20z\"/>\n",
              "  </svg>\n",
              "      </button>\n",
              "      \n",
              "  <style>\n",
              "    .colab-df-container {\n",
              "      display:flex;\n",
              "      flex-wrap:wrap;\n",
              "      gap: 12px;\n",
              "    }\n",
              "\n",
              "    .colab-df-convert {\n",
              "      background-color: #E8F0FE;\n",
              "      border: none;\n",
              "      border-radius: 50%;\n",
              "      cursor: pointer;\n",
              "      display: none;\n",
              "      fill: #1967D2;\n",
              "      height: 32px;\n",
              "      padding: 0 0 0 0;\n",
              "      width: 32px;\n",
              "    }\n",
              "\n",
              "    .colab-df-convert:hover {\n",
              "      background-color: #E2EBFA;\n",
              "      box-shadow: 0px 1px 2px rgba(60, 64, 67, 0.3), 0px 1px 3px 1px rgba(60, 64, 67, 0.15);\n",
              "      fill: #174EA6;\n",
              "    }\n",
              "\n",
              "    [theme=dark] .colab-df-convert {\n",
              "      background-color: #3B4455;\n",
              "      fill: #D2E3FC;\n",
              "    }\n",
              "\n",
              "    [theme=dark] .colab-df-convert:hover {\n",
              "      background-color: #434B5C;\n",
              "      box-shadow: 0px 1px 3px 1px rgba(0, 0, 0, 0.15);\n",
              "      filter: drop-shadow(0px 1px 2px rgba(0, 0, 0, 0.3));\n",
              "      fill: #FFFFFF;\n",
              "    }\n",
              "  </style>\n",
              "\n",
              "      <script>\n",
              "        const buttonEl =\n",
              "          document.querySelector('#df-b79f1c91-93dd-4b6b-9cec-819e0b3472fa button.colab-df-convert');\n",
              "        buttonEl.style.display =\n",
              "          google.colab.kernel.accessAllowed ? 'block' : 'none';\n",
              "\n",
              "        async function convertToInteractive(key) {\n",
              "          const element = document.querySelector('#df-b79f1c91-93dd-4b6b-9cec-819e0b3472fa');\n",
              "          const dataTable =\n",
              "            await google.colab.kernel.invokeFunction('convertToInteractive',\n",
              "                                                     [key], {});\n",
              "          if (!dataTable) return;\n",
              "\n",
              "          const docLinkHtml = 'Like what you see? Visit the ' +\n",
              "            '<a target=\"_blank\" href=https://colab.research.google.com/notebooks/data_table.ipynb>data table notebook</a>'\n",
              "            + ' to learn more about interactive tables.';\n",
              "          element.innerHTML = '';\n",
              "          dataTable['output_type'] = 'display_data';\n",
              "          await google.colab.output.renderOutput(dataTable, element);\n",
              "          const docLink = document.createElement('div');\n",
              "          docLink.innerHTML = docLinkHtml;\n",
              "          element.appendChild(docLink);\n",
              "        }\n",
              "      </script>\n",
              "    </div>\n",
              "  </div>\n",
              "  "
            ]
          },
          "metadata": {},
          "execution_count": 200
        }
      ]
    },
    {
      "cell_type": "code",
      "source": [
        "cluster_0 = []\n",
        "cluster_1 = []\n",
        "cluster_2 = []\n",
        "\n",
        "for i in data.values:\n",
        "  n = i[len(data.values[0,:])-1]\n",
        "  if n == 0:\n",
        "    cluster_0.append(i[-2])\n",
        "  elif n == 1:\n",
        "    cluster_1.append(i[-2])\n",
        "  elif n == 2:\n",
        "    cluster_2.append(i[-2])\n",
        "print(\"Cluster 0 \", cluster_0, \"\\n\",\"Cluster 1 \",cluster_1,\"\\n\",\"Cluster 2 \", cluster_2, \"\\n\")"
      ],
      "metadata": {
        "colab": {
          "base_uri": "https://localhost:8080/"
        },
        "id": "yio7BeKZa4k6",
        "outputId": "61fea755-b4aa-4804-848a-561fcdfcb8e5"
      },
      "execution_count": null,
      "outputs": [
        {
          "output_type": "stream",
          "name": "stdout",
          "text": [
            "Cluster 0  ['US', 'Europe ', 'China', 'Other Asia Pacific'] \n",
            " Cluster 1  ['Canada', 'Russia', 'Iraq', 'Saudi Arabia', 'United Arab Emirates', 'West Africa'] \n",
            " Cluster 2  ['Mexico', 'S. & Cent. America', 'Other CIS', 'Kuwait', 'Other Middle East', 'North Africa', 'East & S. Africa', 'Australasia', 'India', 'Japan', 'Singapore'] \n",
            "\n"
          ]
        }
      ]
    },
    {
      "cell_type": "code",
      "source": [
        "plt.figure(figsize=(8,6))\n",
        "plt.scatter(X[:, 2], X[:, 3], c=labels.astype(np.float), alpha=1)\n",
        "plt.xlabel(\"Crude Exports\")\n",
        "plt.ylabel(\"Product Exports\")\n",
        "plt.scatter(centers[:, 2], centers[:, 3], marker='x', c=\"r\")\n",
        "plt.show()"
      ],
      "metadata": {
        "colab": {
          "base_uri": "https://localhost:8080/",
          "height": 460
        },
        "id": "1r3Tn7eEn6wH",
        "outputId": "a68bfd96-4925-4ea2-dc51-877fade887ed"
      },
      "execution_count": null,
      "outputs": [
        {
          "output_type": "stream",
          "name": "stderr",
          "text": [
            "<ipython-input-166-5c92921e2a1b>:2: DeprecationWarning: `np.float` is a deprecated alias for the builtin `float`. To silence this warning, use `float` by itself. Doing this will not modify any behavior and is safe. If you specifically wanted the numpy scalar type, use `np.float64` here.\n",
            "Deprecated in NumPy 1.20; for more details and guidance: https://numpy.org/devdocs/release/1.20.0-notes.html#deprecations\n",
            "  plt.scatter(X[:, 2], X[:, 3], c=labels.astype(np.float), alpha=1)\n"
          ]
        },
        {
          "output_type": "display_data",
          "data": {
            "text/plain": [
              "<Figure size 576x432 with 1 Axes>"
            ],
            "image/png": "[encoded data removed]"
          },
          "metadata": {
            "needs_background": "light"
          }
        }
      ]
    },
    {
      "cell_type": "code",
      "source": [
        "plt.figure(figsize=(8,6))\n",
        "plt.scatter(X[:, 0], X[:, 1], c=labels.astype(np.float), alpha=1)\n",
        "plt.xlabel(\"Crude Imports\")\n",
        "plt.ylabel(\"Product Imports\")\n",
        "plt.scatter(centers[:, 0], centers[:, 1], marker='x', c=\"r\")\n",
        "plt.show()"
      ],
      "metadata": {
        "colab": {
          "base_uri": "https://localhost:8080/",
          "height": 460
        },
        "id": "oyeDWoy9w5EP",
        "outputId": "6d876b5e-88db-47e3-c8da-b2455ef2d761"
      },
      "execution_count": null,
      "outputs": [
        {
          "output_type": "stream",
          "name": "stderr",
          "text": [
            "<ipython-input-167-27b66055c9a4>:2: DeprecationWarning: `np.float` is a deprecated alias for the builtin `float`. To silence this warning, use `float` by itself. Doing this will not modify any behavior and is safe. If you specifically wanted the numpy scalar type, use `np.float64` here.\n",
            "Deprecated in NumPy 1.20; for more details and guidance: https://numpy.org/devdocs/release/1.20.0-notes.html#deprecations\n",
            "  plt.scatter(X[:, 0], X[:, 1], c=labels.astype(np.float), alpha=1)\n"
          ]
        },
        {
          "output_type": "display_data",
          "data": {
            "text/plain": [
              "<Figure size 576x432 with 1 Axes>"
            ],
            "image/png": "[encoded data removed]"
          },
          "metadata": {
            "needs_background": "light"
          }
        }
      ]
    },
    {
      "cell_type": "code",
      "source": [
        "plt.figure(figsize=(8,6))\n",
        "plt.scatter(X[:, 0], X[:, 2], c=labels.astype(np.float), alpha=1)\n",
        "plt.xlabel(\"Crude Imports\")\n",
        "plt.ylabel(\"Crude Exports\")\n",
        "plt.scatter(centers[:, 2], centers[:, 3], marker='x', c=\"r\")\n",
        "plt.show()"
      ],
      "metadata": {
        "colab": {
          "base_uri": "https://localhost:8080/",
          "height": 460
        },
        "id": "CsAagoNLxKTM",
        "outputId": "d5f78d02-a9c6-4cda-abf2-e24e284c6b66"
      },
      "execution_count": null,
      "outputs": [
        {
          "output_type": "stream",
          "name": "stderr",
          "text": [
            "<ipython-input-168-4ff4e0572c00>:2: DeprecationWarning: `np.float` is a deprecated alias for the builtin `float`. To silence this warning, use `float` by itself. Doing this will not modify any behavior and is safe. If you specifically wanted the numpy scalar type, use `np.float64` here.\n",
            "Deprecated in NumPy 1.20; for more details and guidance: https://numpy.org/devdocs/release/1.20.0-notes.html#deprecations\n",
            "  plt.scatter(X[:, 0], X[:, 2], c=labels.astype(np.float), alpha=1)\n"
          ]
        },
        {
          "output_type": "display_data",
          "data": {
            "text/plain": [
              "<Figure size 576x432 with 1 Axes>"
            ],
            "image/png": "[encoded data removed]"
          },
          "metadata": {
            "needs_background": "light"
          }
        }
      ]
    },
    {
      "cell_type": "code",
      "source": [
        "plt.figure(figsize=(8,6))\n",
        "plt.scatter(X[:, 0], X[:, 3], c=labels.astype(np.float), alpha=1)\n",
        "plt.xlabel(\"Product Imports\")\n",
        "plt.ylabel(\"Product Exports\")\n",
        "plt.scatter(centers[:, 0], centers[:, 3], marker='x', c=\"r\")\n",
        "plt.show()"
      ],
      "metadata": {
        "colab": {
          "base_uri": "https://localhost:8080/",
          "height": 460
        },
        "id": "3iVbDBEzxoKi",
        "outputId": "ddfd1438-f322-4891-afe7-6b924bb2d4da"
      },
      "execution_count": null,
      "outputs": [
        {
          "output_type": "stream",
          "name": "stderr",
          "text": [
            "<ipython-input-204-c1dce63c49d7>:2: DeprecationWarning: `np.float` is a deprecated alias for the builtin `float`. To silence this warning, use `float` by itself. Doing this will not modify any behavior and is safe. If you specifically wanted the numpy scalar type, use `np.float64` here.\n",
            "Deprecated in NumPy 1.20; for more details and guidance: https://numpy.org/devdocs/release/1.20.0-notes.html#deprecations\n",
            "  plt.scatter(X[:, 0], X[:, 3], c=labels.astype(np.float), alpha=1)\n"
          ]
        },
        {
          "output_type": "display_data",
          "data": {
            "text/plain": [
              "<Figure size 576x432 with 1 Axes>"
            ],
            "image/png": "[encoded data removed]"
          },
          "metadata": {
            "needs_background": "light"
          }
        }
      ]
    },
    {
      "cell_type": "code",
      "source": [
        "from mpl_toolkits.mplot3d import Axes3D\n",
        "fig = plt.figure(1, figsize=(8, 6))\n",
        "plt.clf\n",
        "ax = Axes3D(fig, rect=[0, 0, .95, 1], elev=48, azim=134)\n",
        "\n",
        "ax.set_xlabel(\"Crude Imports\")\n",
        "ax.set_ylabel(\"Crude Exports\")\n",
        "ax.set_zlabel(\"Product Exports\")\n",
        "\n",
        "ax.scatter(X[:, 0], X[:, 2], X[:, 1], c=labels.astype(np.float))"
      ],
      "metadata": {
        "colab": {
          "base_uri": "https://localhost:8080/",
          "height": 552
        },
        "id": "3K79gVT_uEke",
        "outputId": "71ec0031-7ef7-4cc9-b9c3-3881112d79e9"
      },
      "execution_count": null,
      "outputs": [
        {
          "output_type": "stream",
          "name": "stderr",
          "text": [
            "<ipython-input-170-b819920e2c2a>:10: DeprecationWarning: `np.float` is a deprecated alias for the builtin `float`. To silence this warning, use `float` by itself. Doing this will not modify any behavior and is safe. If you specifically wanted the numpy scalar type, use `np.float64` here.\n",
            "Deprecated in NumPy 1.20; for more details and guidance: https://numpy.org/devdocs/release/1.20.0-notes.html#deprecations\n",
            "  ax.scatter(X[:, 0], X[:, 2], X[:, 1], c=labels.astype(np.float))\n"
          ]
        },
        {
          "output_type": "execute_result",
          "data": {
            "text/plain": [
              "<mpl_toolkits.mplot3d.art3d.Path3DCollection at 0x7f59602d4ee0>"
            ]
          },
          "metadata": {},
          "execution_count": 170
        },
        {
          "output_type": "display_data",
          "data": {
            "text/plain": [
              "<Figure size 576x432 with 1 Axes>"
            ],
            "image/png": "[encoded data removed]"
          },
          "metadata": {
            "needs_background": "light"
          }
        }
      ]
    },
    {
      "cell_type": "code",
      "source": [
        "data.groupby('Clus_km').mean()"
      ],
      "metadata": {
        "colab": {
          "base_uri": "https://localhost:8080/",
          "height": 175
        },
        "id": "j67PQ6W8n2uo",
        "outputId": "90de20ec-b9b6-4c99-ecf1-f51b1a7bbbed"
      },
      "execution_count": null,
      "outputs": [
        {
          "output_type": "execute_result",
          "data": {
            "text/plain": [
              "          Crude Imports    Product Imports    Crude Exports   \\\n",
              "Clus_km                                                        \n",
              "0             388.868000         153.956500        53.668500   \n",
              "1               4.597500          22.467667       215.625333   \n",
              "2              43.254364          43.142273        50.039091   \n",
              "\n",
              "          Product Exports   \n",
              "Clus_km                     \n",
              "0               136.683750  \n",
              "1                56.576167  \n",
              "2                30.818545  "
            ],
            "text/html": [
              "\n",
              "  <div id=\"df-67bdd6bc-9d7e-40bd-8eb0-ff564d5bac54\">\n",
              "    <div class=\"colab-df-container\">\n",
              "      <div>\n",
              "<style scoped>\n",
              "    .dataframe tbody tr th:only-of-type {\n",
              "        vertical-align: middle;\n",
              "    }\n",
              "\n",
              "    .dataframe tbody tr th {\n",
              "        vertical-align: top;\n",
              "    }\n",
              "\n",
              "    .dataframe thead th {\n",
              "        text-align: right;\n",
              "    }\n",
              "</style>\n",
              "<table border=\"1\" class=\"dataframe\">\n",
              "  <thead>\n",
              "    <tr style=\"text-align: right;\">\n",
              "      <th></th>\n",
              "      <th>Crude Imports</th>\n",
              "      <th>Product Imports</th>\n",
              "      <th>Crude Exports</th>\n",
              "      <th>Product Exports</th>\n",
              "    </tr>\n",
              "    <tr>\n",
              "      <th>Clus_km</th>\n",
              "      <th></th>\n",
              "      <th></th>\n",
              "      <th></th>\n",
              "      <th></th>\n",
              "    </tr>\n",
              "  </thead>\n",
              "  <tbody>\n",
              "    <tr>\n",
              "      <th>0</th>\n",
              "      <td>388.868000</td>\n",
              "      <td>153.956500</td>\n",
              "      <td>53.668500</td>\n",
              "      <td>136.683750</td>\n",
              "    </tr>\n",
              "    <tr>\n",
              "      <th>1</th>\n",
              "      <td>4.597500</td>\n",
              "      <td>22.467667</td>\n",
              "      <td>215.625333</td>\n",
              "      <td>56.576167</td>\n",
              "    </tr>\n",
              "    <tr>\n",
              "      <th>2</th>\n",
              "      <td>43.254364</td>\n",
              "      <td>43.142273</td>\n",
              "      <td>50.039091</td>\n",
              "      <td>30.818545</td>\n",
              "    </tr>\n",
              "  </tbody>\n",
              "</table>\n",
              "</div>\n",
              "      <button class=\"colab-df-convert\" onclick=\"convertToInteractive('df-67bdd6bc-9d7e-40bd-8eb0-ff564d5bac54')\"\n",
              "              title=\"Convert this dataframe to an interactive table.\"\n",
              "              style=\"display:none;\">\n",
              "        \n",
              "  <svg xmlns=\"http://www.w3.org/2000/svg\" height=\"24px\"viewBox=\"0 0 24 24\"\n",
              "       width=\"24px\">\n",
              "    <path d=\"M0 0h24v24H0V0z\" fill=\"none\"/>\n",
              "    <path d=\"M18.56 5.44l.94 2.06.94-2.06 2.06-.94-2.06-.94-.94-2.06-.94 2.06-2.06.94zm-11 1L8.5 8.5l.94-2.06 2.06-.94-2.06-.94L8.5 2.5l-.94 2.06-2.06.94zm10 10l.94 2.06.94-2.06 2.06-.94-2.06-.94-.94-2.06-.94 2.06-2.06.94z\"/><path d=\"M17.41 7.96l-1.37-1.37c-.4-.4-.92-.59-1.43-.59-.52 0-1.04.2-1.43.59L10.3 9.45l-7.72 7.72c-.78.78-.78 2.05 0 2.83L4 21.41c.39.39.9.59 1.41.59.51 0 1.02-.2 1.41-.59l7.78-7.78 2.81-2.81c.8-.78.8-2.07 0-2.86zM5.41 20L4 18.59l7.72-7.72 1.47 1.35L5.41 20z\"/>\n",
              "  </svg>\n",
              "      </button>\n",
              "      \n",
              "  <style>\n",
              "    .colab-df-container {\n",
              "      display:flex;\n",
              "      flex-wrap:wrap;\n",
              "      gap: 12px;\n",
              "    }\n",
              "\n",
              "    .colab-df-convert {\n",
              "      background-color: #E8F0FE;\n",
              "      border: none;\n",
              "      border-radius: 50%;\n",
              "      cursor: pointer;\n",
              "      display: none;\n",
              "      fill: #1967D2;\n",
              "      height: 32px;\n",
              "      padding: 0 0 0 0;\n",
              "      width: 32px;\n",
              "    }\n",
              "\n",
              "    .colab-df-convert:hover {\n",
              "      background-color: #E2EBFA;\n",
              "      box-shadow: 0px 1px 2px rgba(60, 64, 67, 0.3), 0px 1px 3px 1px rgba(60, 64, 67, 0.15);\n",
              "      fill: #174EA6;\n",
              "    }\n",
              "\n",
              "    [theme=dark] .colab-df-convert {\n",
              "      background-color: #3B4455;\n",
              "      fill: #D2E3FC;\n",
              "    }\n",
              "\n",
              "    [theme=dark] .colab-df-convert:hover {\n",
              "      background-color: #434B5C;\n",
              "      box-shadow: 0px 1px 3px 1px rgba(0, 0, 0, 0.15);\n",
              "      filter: drop-shadow(0px 1px 2px rgba(0, 0, 0, 0.3));\n",
              "      fill: #FFFFFF;\n",
              "    }\n",
              "  </style>\n",
              "\n",
              "      <script>\n",
              "        const buttonEl =\n",
              "          document.querySelector('#df-67bdd6bc-9d7e-40bd-8eb0-ff564d5bac54 button.colab-df-convert');\n",
              "        buttonEl.style.display =\n",
              "          google.colab.kernel.accessAllowed ? 'block' : 'none';\n",
              "\n",
              "        async function convertToInteractive(key) {\n",
              "          const element = document.querySelector('#df-67bdd6bc-9d7e-40bd-8eb0-ff564d5bac54');\n",
              "          const dataTable =\n",
              "            await google.colab.kernel.invokeFunction('convertToInteractive',\n",
              "                                                     [key], {});\n",
              "          if (!dataTable) return;\n",
              "\n",
              "          const docLinkHtml = 'Like what you see? Visit the ' +\n",
              "            '<a target=\"_blank\" href=https://colab.research.google.com/notebooks/data_table.ipynb>data table notebook</a>'\n",
              "            + ' to learn more about interactive tables.';\n",
              "          element.innerHTML = '';\n",
              "          dataTable['output_type'] = 'display_data';\n",
              "          await google.colab.output.renderOutput(dataTable, element);\n",
              "          const docLink = document.createElement('div');\n",
              "          docLink.innerHTML = docLinkHtml;\n",
              "          element.appendChild(docLink);\n",
              "        }\n",
              "      </script>\n",
              "    </div>\n",
              "  </div>\n",
              "  "
            ]
          },
          "metadata": {},
          "execution_count": 205
        }
      ]
    },
    {
      "cell_type": "code",
      "source": [
        "plt.figure(figsize=(10, 10))\n",
        "plt.ylabel(\"Million tonnes\")\n",
        "clusters_arr = np.arange(0, clusterNum, 1)\n",
        "for i in clusters_arr:\n",
        "  plt.plot(data.groupby('Clus_km').mean().iloc[i, :], label=i)\n",
        "plt.grid(True)\n",
        "plt.legend(loc='best', fontsize=12)"
      ],
      "metadata": {
        "colab": {
          "base_uri": "https://localhost:8080/",
          "height": 609
        },
        "id": "K05mSxhAoyN_",
        "outputId": "b7421933-02f7-48f5-88e7-ff40b671d7ba"
      },
      "execution_count": null,
      "outputs": [
        {
          "output_type": "execute_result",
          "data": {
            "text/plain": [
              "<matplotlib.legend.Legend at 0x7f59591717c0>"
            ]
          },
          "metadata": {},
          "execution_count": 206
        },
        {
          "output_type": "display_data",
          "data": {
            "text/plain": [
              "<Figure size 720x720 with 1 Axes>"
            ],
            "image/png": "[encoded data removed]"
          },
          "metadata": {
            "needs_background": "light"
          }
        }
      ]
    }
  ]
}